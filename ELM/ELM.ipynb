{
 "cells": [
  {
   "cell_type": "markdown",
   "id": "d9d68edb",
   "metadata": {},
   "source": [
    "# ELM"
   ]
  },
  {
   "cell_type": "markdown",
   "id": "965bfe80",
   "metadata": {},
   "source": [
    "## Importing Libraries"
   ]
  },
  {
   "cell_type": "code",
   "execution_count": 6,
   "id": "b150258d",
   "metadata": {},
   "outputs": [],
   "source": [
    "import torch\n",
    "import pandas as pd\n",
    "import torch.nn as nn\n",
    "from torch.utils.data import Dataset, DataLoader\n",
    "import os"
   ]
  },
  {
   "cell_type": "markdown",
   "id": "cb6af6f0",
   "metadata": {},
   "source": [
    "# Dateset Class and DataLoader"
   ]
  },
  {
   "cell_type": "code",
   "execution_count": 2,
   "id": "2c991e4e",
   "metadata": {},
   "outputs": [],
   "source": [
    "class ELM_Dataset(Dataset):\n",
    "    def __init__(self, features, labels):\n",
    "        super(ELM_Dataset, self).__init__()\n",
    "\n",
    "        self.features = torch.Tensor(features, dtype = torch.float32)\n",
    "        self.labels = torch.Tensor(labels, dtype = torch.float32)\n",
    "\n",
    "    def __len__(self):\n",
    "        return len(self.features)\n",
    "    \n",
    "    def __getitem__(self, index):\n",
    "        feature = self.features[index]\n",
    "        label = self.labels[index]\n",
    "\n",
    "        return feature, label"
   ]
  },
  {
   "cell_type": "markdown",
   "id": "958b53e2",
   "metadata": {},
   "source": [
    "## Importing Dataset"
   ]
  },
  {
   "cell_type": "code",
   "execution_count": 5,
   "id": "b15fa6d1",
   "metadata": {},
   "outputs": [
    {
     "name": "stdout",
     "output_type": "stream",
     "text": [
      "['MEFAR_DOWN.csv', 'MEFAR_MID.csv', 'MEFAR_UP.csv']\n"
     ]
    }
   ],
   "source": [
    "dataset_list = os.listdir(path = '../Datasets')\n",
    "print(dataset_list)"
   ]
  },
  {
   "cell_type": "markdown",
   "id": "01d92cfe",
   "metadata": {},
   "source": [
    "## ELM Class"
   ]
  },
  {
   "cell_type": "code",
   "execution_count": null,
   "id": "8771fa10",
   "metadata": {},
   "outputs": [],
   "source": [
    "class ELM(nn.Module):\n",
    "    def __init__(self, input_size, hidden_neurons):\n",
    "        super(ELM, self).__init__()\n",
    "\n",
    "        self.input_size = input_size\n",
    "        self.hidden_neurons = hidden_neurons\n",
    "\n",
    "        #Model Layers\n",
    "        self.hidden_layer = nn.Linear(input_size, hidden_neurons)\n",
    "        self.output_layer = nn.Linear(hidden_neurons, 1)\n",
    "\n",
    "        W = torch.rand((input_size, hidden_neurons))\n",
    "        b = torch.rand((1, hidden_neurons))\n",
    "\n",
    "    def forward(self, x):\n",
    "        x = self.hidden_layer(x)\n",
    "        x = self.output_layer(x)\n",
    "        x = nn.Sigmoid(x)\n",
    "\n",
    "        return x"
   ]
  },
  {
   "cell_type": "code",
   "execution_count": 19,
   "id": "8e0afb34",
   "metadata": {},
   "outputs": [],
   "source": [
    "X_values = elm_data.iloc[:, :-1].values\n",
    "y_values = elm_data.iloc[:, -1].values"
   ]
  },
  {
   "cell_type": "code",
   "execution_count": null,
   "id": "c635f91b",
   "metadata": {},
   "outputs": [],
   "source": []
  }
 ],
 "metadata": {
  "kernelspec": {
   "display_name": "cuda_pt",
   "language": "python",
   "name": "python3"
  },
  "language_info": {
   "codemirror_mode": {
    "name": "ipython",
    "version": 3
   },
   "file_extension": ".py",
   "mimetype": "text/x-python",
   "name": "python",
   "nbconvert_exporter": "python",
   "pygments_lexer": "ipython3",
   "version": "3.12.3"
  }
 },
 "nbformat": 4,
 "nbformat_minor": 5
}
