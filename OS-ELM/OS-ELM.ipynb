{
 "cells": [
  {
   "cell_type": "markdown",
   "id": "10575770",
   "metadata": {},
   "source": [
    "# OS - ELM"
   ]
  },
  {
   "cell_type": "markdown",
   "id": "55123ddf",
   "metadata": {},
   "source": [
    "## Importing Libraries"
   ]
  },
  {
   "cell_type": "code",
   "execution_count": null,
   "id": "5f781477",
   "metadata": {},
   "outputs": [],
   "source": [
    "import torch\n",
    "import time\n",
    "import pandas as pd\n",
    "import torch.nn as nn\n",
    "from torch.utils.data import Dataset, DataLoader\n",
    "import os\n",
    "from sklearn.model_selection import train_test_split\n",
    "from sklearn.preprocessing import StandardScaler\n",
    "from sklearn.metrics import accuracy_score, classification_report\n",
    "import matplotlib.pyplot as plt"
   ]
  },
  {
   "cell_type": "markdown",
   "id": "577e45ab",
   "metadata": {},
   "source": [
    "## MEFAR Dataset Class"
   ]
  },
  {
   "cell_type": "code",
   "execution_count": null,
   "id": "5d5a45f9",
   "metadata": {},
   "outputs": [],
   "source": [
    "class MEFAR_Dataset(Dataset):\n",
    "    def __init__(self, features, labels):\n",
    "\n",
    "        scaler = StandardScaler()\n",
    "\n",
    "        self.features = torch.tensor(scaler.fit_transform(features), dtype = torch.float32)\n",
    "        self.labels = torch.tensor(scaler.fit_transform(labels), dtype = torch.float32)\n",
    "\n",
    "    def __len__(self):\n",
    "        return len(self.features)\n",
    "    \n",
    "    def __getitem__(self, index):\n",
    "        return self.features[index], self.labels[index]\n"
   ]
  },
  {
   "cell_type": "markdown",
   "id": "318e20ff",
   "metadata": {},
   "source": [
    "## OS - ELM Class"
   ]
  },
  {
   "cell_type": "code",
   "execution_count": null,
   "id": "5ae24d5e",
   "metadata": {},
   "outputs": [],
   "source": [
    "class OSELM(nn.Module):\n",
    "    def __init__(self, n_hidden_neurons, device)\n"
   ]
  }
 ],
 "metadata": {
  "kernelspec": {
   "display_name": "cuda_pt",
   "language": "python",
   "name": "python3"
  },
  "language_info": {
   "name": "python",
   "version": "3.12.3"
  }
 },
 "nbformat": 4,
 "nbformat_minor": 5
}
